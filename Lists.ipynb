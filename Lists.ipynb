{
  "nbformat": 4,
  "nbformat_minor": 0,
  "metadata": {
    "colab": {
      "name": "Lists.ipynb",
      "provenance": [],
      "authorship_tag": "ABX9TyO12cCFJNQ46Wwjd+FdcDXd"
    },
    "kernelspec": {
      "name": "python3",
      "display_name": "Python 3"
    }
  },
  "cells": [
    {
      "cell_type": "code",
      "metadata": {
        "id": "uwhz8fk8cs7n",
        "colab_type": "code",
        "colab": {
          "base_uri": "https://localhost:8080/",
          "height": 34
        },
        "outputId": "de510c88-d6b1-46ea-f20c-975934faf05b"
      },
      "source": [
        "powers = [x**y for x in range(1, 10) for y in [2,10]]\n",
        "print(powers)"
      ],
      "execution_count": 2,
      "outputs": [
        {
          "output_type": "stream",
          "text": [
            "[1, 1, 4, 1024, 9, 59049, 16, 1048576, 25, 9765625, 36, 60466176, 49, 282475249, 64, 1073741824, 81, 3486784401]\n"
          ],
          "name": "stdout"
        }
      ]
    },
    {
      "cell_type": "code",
      "metadata": {
        "id": "qolQ3J48dSQm",
        "colab_type": "code",
        "colab": {
          "base_uri": "https://localhost:8080/",
          "height": 34
        },
        "outputId": "4aa0b1a4-8b68-4592-856a-ad397ded40e9"
      },
      "source": [
        "numbers = [x*y for x in range(1, 10) for y in [3, 5, 7]]\n",
        "print(numbers)"
      ],
      "execution_count": 8,
      "outputs": [
        {
          "output_type": "stream",
          "text": [
            "[3, 5, 7, 6, 10, 14, 9, 15, 21, 12, 20, 28, 15, 25, 35, 18, 30, 42, 21, 35, 49, 24, 40, 56, 27, 45, 63]\n"
          ],
          "name": "stdout"
        }
      ]
    },
    {
      "cell_type": "code",
      "metadata": {
        "id": "kBD0eui7doR_",
        "colab_type": "code",
        "colab": {
          "base_uri": "https://localhost:8080/",
          "height": 102
        },
        "outputId": "00560051-d99b-4e35-83d3-4b4b9ac94207"
      },
      "source": [
        "draw_dict = {\n",
        "\t'Россия': 'A',\n",
        "\t'Португалия': 'B',\n",
        "\t'Франция': 'C',\n",
        "\t'Дания': 'C',\n",
        "\t'Египет': 'A'\n",
        "}\n",
        "for country, group in draw_dict.items():\n",
        "  print(country, group)"
      ],
      "execution_count": 24,
      "outputs": [
        {
          "output_type": "stream",
          "text": [
            "Россия A\n",
            "Португалия B\n",
            "Франция C\n",
            "Дания C\n",
            "Египет A\n"
          ],
          "name": "stdout"
        }
      ]
    },
    {
      "cell_type": "code",
      "metadata": {
        "id": "Tq8w-eRVnhc0",
        "colab_type": "code",
        "colab": {
          "base_uri": "https://localhost:8080/",
          "height": 34
        },
        "outputId": "ec4ea9db-345a-403d-d774-e51d2df9a64b"
      },
      "source": [
        "draw_dict = {\n",
        "\t'Россия': 'A',\n",
        "\t'Португалия': 'B',\n",
        "\t'Франция': 'C',\n",
        "\t'Дания': 'C',\n",
        "\t'Египет': 'A'\n",
        "}\n",
        "draw_new = {}\n",
        "for country, group in draw_dict.items():\n",
        "  if group == 'A':\n",
        "    draw_new.setdefault (country, group)\n",
        "print(draw_new)"
      ],
      "execution_count": 33,
      "outputs": [
        {
          "output_type": "stream",
          "text": [
            "{'Россия': 'A', 'Египет': 'A'}\n"
          ],
          "name": "stdout"
        }
      ]
    },
    {
      "cell_type": "code",
      "metadata": {
        "id": "gRVbZz9ctAIm",
        "colab_type": "code",
        "colab": {
          "base_uri": "https://localhost:8080/",
          "height": 34
        },
        "outputId": "2658dfc9-bbde-4969-ae3d-daac148a3996"
      },
      "source": [
        "2504+4994+6343"
      ],
      "execution_count": 34,
      "outputs": [
        {
          "output_type": "execute_result",
          "data": {
            "text/plain": [
              "13841"
            ]
          },
          "metadata": {
            "tags": []
          },
          "execution_count": 34
        }
      ]
    },
    {
      "cell_type": "code",
      "metadata": {
        "id": "tpcQ7iYzr6b7",
        "colab_type": "code",
        "colab": {
          "base_uri": "https://localhost:8080/",
          "height": 34
        },
        "outputId": "d03affa7-ae7d-49fa-b8d6-5b49bce09295"
      },
      "source": [
        "csv_file = [\n",
        "    ['100412', 'Ботинки для горных лыж ATOMIC Hawx Prime 100', 9],\n",
        "    ['100728', 'Скейтборд Jdbug RT03', 32],\n",
        "    ['100732', 'Роллерсерф Razor RipStik Bright', 11],\n",
        "    ['100803', 'Ботинки для сноуборда DC Tucknee', 20],\n",
        "    ['100898', 'Шагомер Omron HJA-306', 2],\n",
        "    ['100934', 'Пульсометр Beurer PM62', 17],\n",
        "]\n",
        "print(csv_file[4])"
      ],
      "execution_count": 35,
      "outputs": [
        {
          "output_type": "stream",
          "text": [
            "['100898', 'Шагомер Omron HJA-306', 2]\n"
          ],
          "name": "stdout"
        }
      ]
    },
    {
      "cell_type": "code",
      "metadata": {
        "id": "etuigdIWvP5n",
        "colab_type": "code",
        "colab": {
          "base_uri": "https://localhost:8080/",
          "height": 34
        },
        "outputId": "851ab623-ac13-412e-cc73-f23864211952"
      },
      "source": [
        "csv_file = [\n",
        "    ['100412', 'Ботинки для горных лыж ATOMIC Hawx Prime 100', 9],\n",
        "    ['100728', 'Скейтборд Jdbug RT03', 32],\n",
        "    ['100732', 'Роллерсерф Razor RipStik Bright', 11],\n",
        "    ['100803', 'Ботинки для сноуборда DC Tucknee', 20],\n",
        "    ['100898', 'Шагомер Omron HJA-306', 2],\n",
        "    ['100934', 'Пульсометр Beurer PM62', 17],\n",
        "]\n",
        "pulsometer_id = csv_file[4][2]\n",
        "for record in csv_file:\n",
        "    if record[1] == 'Шагомер Omron HJA-306':\n",
        "        print('Количество шагомеров на складе - {}шт'.format(record[2]))"
      ],
      "execution_count": 39,
      "outputs": [
        {
          "output_type": "stream",
          "text": [
            "Количество шагомеров на складе - 2шт\n"
          ],
          "name": "stdout"
        }
      ]
    },
    {
      "cell_type": "code",
      "metadata": {
        "id": "Oa4FaXjHAVIK",
        "colab_type": "code",
        "colab": {
          "base_uri": "https://localhost:8080/",
          "height": 54
        },
        "outputId": "37fed6ed-3c02-42b6-95b7-2ae6376d04be"
      },
      "source": [
        "csv_file = [\n",
        "    ['100412', 'Ботинки для горных лыж ATOMIC Hawx Prime 100', 9],\n",
        "    ['100728', 'Скейтборд Jdbug RT03', 32],\n",
        "    ['100732', 'Роллерсерф Razor RipStik Bright', 11],\n",
        "    ['100803', 'Ботинки для сноуборда DC Tucknee', 20],\n",
        "    ['100898', 'Шагомер Omron HJA-306', 2],\n",
        "    ['100934', 'Пульсометр Beurer PM62', 17],\n",
        "]\n",
        "\n",
        "csv_file_filtered = []\n",
        "for item in csv_file:\n",
        "  if item[2] >10:\n",
        "    csv_file_filtered.append(item)\n",
        "print(csv_file_filtered)"
      ],
      "execution_count": 44,
      "outputs": [
        {
          "output_type": "stream",
          "text": [
            "[['100728', 'Скейтборд Jdbug RT03', 32], ['100732', 'Роллерсерф Razor RipStik Bright', 11], ['100803', 'Ботинки для сноуборда DC Tucknee', 20], ['100934', 'Пульсометр Beurer PM62', 17]]\n"
          ],
          "name": "stdout"
        }
      ]
    },
    {
      "cell_type": "code",
      "metadata": {
        "id": "aRwd2_tbCaQy",
        "colab_type": "code",
        "colab": {
          "base_uri": "https://localhost:8080/",
          "height": 85
        },
        "outputId": "b92e2be1-324c-4f71-ac34-c1530d460f35"
      },
      "source": [
        "contacts = {\n",
        "    'Борискин Владимир': {\n",
        "        'tel': '5387',\n",
        "        'position': 'менеджер'\n",
        "    },\n",
        "    \n",
        "    'Сомова Наталья': {\n",
        "        'tel': '5443',\n",
        "        'position': 'разработчик'\n",
        "    },\n",
        "}\n",
        "print(contacts['Борискин Владимир'])\n",
        "print(contacts['Борискин Владимир']['tel'])\n",
        "print(contacts['Борискин Владимир']['position'])\n",
        "print(contacts.keys())\n"
      ],
      "execution_count": 58,
      "outputs": [
        {
          "output_type": "stream",
          "text": [
            "{'tel': '5387', 'position': 'менеджер'}\n",
            "5387\n",
            "менеджер\n",
            "dict_keys(['Борискин Владимир', 'Сомова Наталья'])\n"
          ],
          "name": "stdout"
        }
      ]
    },
    {
      "cell_type": "code",
      "metadata": {
        "id": "0sDZpDgVDvsh",
        "colab_type": "code",
        "colab": {
          "base_uri": "https://localhost:8080/",
          "height": 54
        },
        "outputId": "811652f7-5bc3-4394-d5ad-3edd308e09b0"
      },
      "source": [
        "csv_dict = [\n",
        "    {'id': '100412', 'position': 'Ботинки для горных лыж ATOMIC Hawx Prime 100', 'count': 9},\n",
        "    {'id': '100728', 'position': 'Скейтборд Jdbug RT03', 'count': 32},\n",
        "    {'id': '100732', 'position': 'Роллерсерф Razor RipStik Bright', 'count': 11},\n",
        "    {'id': '100803', 'position': 'Ботинки для сноуборда DC Tucknee', 'count': 20},\n",
        "    {'id': '100898', 'position': 'Шагомер Omron HJA-306', 'count': 2},\n",
        "    {'id': '100934', 'position': 'Пульсометр Beurer PM62', 'count': 17},\n",
        "]\n",
        "csv_dict_boots = []\n",
        "for item in csv_dict:\n",
        "  if 'Ботинки' in item ['position']:\n",
        "    csv_dict_boots.append(item)\n",
        "print(csv_dict_boots)\n"
      ],
      "execution_count": 62,
      "outputs": [
        {
          "output_type": "stream",
          "text": [
            "[{'id': '100412', 'position': 'Ботинки для горных лыж ATOMIC Hawx Prime 100', 'count': 9}, {'id': '100803', 'position': 'Ботинки для сноуборда DC Tucknee', 'count': 20}]\n"
          ],
          "name": "stdout"
        }
      ]
    },
    {
      "cell_type": "code",
      "metadata": {
        "id": "SPX_IFMYF6_z",
        "colab_type": "code",
        "colab": {
          "base_uri": "https://localhost:8080/",
          "height": 34
        },
        "outputId": "a620be98-ece6-4301-c0ed-29002bfdb749"
      },
      "source": [
        "results = [\n",
        "\t{'cost': 98, 'source': 'vk'},\n",
        "\t{'cost': 153, 'source': 'yandex'},\n",
        "\t{'cost': 110, 'source': 'facebook'},\n",
        "]\n",
        "min = 1000\n",
        "for result in results:\n",
        "  if result ['cost'] < min:\n",
        "    min = result['cost']\n",
        "print(min)"
      ],
      "execution_count": 64,
      "outputs": [
        {
          "output_type": "stream",
          "text": [
            "98\n"
          ],
          "name": "stdout"
        }
      ]
    },
    {
      "cell_type": "code",
      "metadata": {
        "id": "uZxas4LRIYT-",
        "colab_type": "code",
        "colab": {
          "base_uri": "https://localhost:8080/",
          "height": 34
        },
        "outputId": "87e2782d-f2ab-4ac2-b938-93b8dac08848"
      },
      "source": [
        "defect_stats = [\n",
        "\t{'step number': 1, 'damage': 0.98},\n",
        "\t{'step number': 2, 'damage': 0.99},\n",
        "\t{'step number': 3, 'damage': 0.99},\n",
        "\t{'step number': 4, 'damage': 0.96},\n",
        "\t{'step number': 5, 'damage': 0.97},\n",
        "\t{'step number': 6, 'damage': 0.97},\n",
        "]\n",
        "\n",
        "size=100 # исходный размер 100% с отклонением 0%\\n\",\n",
        "number=0 # этап производственной линии\\n\",\n",
        "for step in defect_stats: #Проходимся по каждому из словарей списка\\n\",\n",
        "  size*=step['damage'] # Уменьшаем исходный размер на величину деформации (умножаем на значение ключа damage)\\n\",\n",
        "  if size<90: # Если получившиеся повреждения привели к размеру менее 90%\\n\",\n",
        "    number=step['step number'] # Определяем этап, на котором это произошло\n",
        "    break\n",
        "print(number)"
      ],
      "execution_count": 68,
      "outputs": [
        {
          "output_type": "stream",
          "text": [
            "5\n"
          ],
          "name": "stdout"
        }
      ]
    },
    {
      "cell_type": "code",
      "metadata": {
        "id": "ylEHUbjDJsxJ",
        "colab_type": "code",
        "colab": {
          "base_uri": "https://localhost:8080/",
          "height": 231
        },
        "outputId": "9c2e7a35-66f3-4e07-8804-dbc034a2f0f1"
      },
      "source": [
        "currency = {\n",
        "\t'AMD': {\n",
        "\t\t'Name': 'Армянских драмов',\n",
        "\t\t'Nominal': 100,\n",
        "\t\t'Value': 13.121\n",
        "\t},\n",
        "\n",
        "\t'AUD': {\n",
        "\t\t'Name': 'Австралийский доллар',\n",
        "\t\t'Nominal': 1,\n",
        "\t\t'Value': 45.5309\n",
        "\t},\n",
        "\n",
        "\t'INR': {\n",
        "\t\t'Name': 'Индийских рупий',\n",
        "\t\t'Nominal': 100,\n",
        "\t\t'Value': 92.9658\n",
        "\t},\n",
        "\n",
        "\t'MDL': {\n",
        "\t\t'Name': 'Молдавских леев',\n",
        "\t\t'Nominal': 10,\n",
        "\t\t'Value': 36.9305\n",
        "\t},\n",
        "}\n",
        "\n",
        "min = 10000\n",
        "valuta = ''\n",
        "for n, v in currency.items():\n",
        "  if v['value']/v['Nominal'] < min:\n",
        "    min = v['value']/v['Nominal']\n",
        "    valuta = n\n",
        "print(valuta)"
      ],
      "execution_count": 75,
      "outputs": [
        {
          "output_type": "error",
          "ename": "KeyError",
          "evalue": "ignored",
          "traceback": [
            "\u001b[0;31m---------------------------------------------------------------------------\u001b[0m",
            "\u001b[0;31mKeyError\u001b[0m                                  Traceback (most recent call last)",
            "\u001b[0;32m<ipython-input-75-c5c1cefc134c>\u001b[0m in \u001b[0;36m<module>\u001b[0;34m()\u001b[0m\n\u001b[1;32m     28\u001b[0m \u001b[0mvaluta\u001b[0m \u001b[0;34m=\u001b[0m \u001b[0;34m''\u001b[0m\u001b[0;34m\u001b[0m\u001b[0;34m\u001b[0m\u001b[0m\n\u001b[1;32m     29\u001b[0m \u001b[0;32mfor\u001b[0m \u001b[0mn\u001b[0m\u001b[0;34m,\u001b[0m \u001b[0mv\u001b[0m \u001b[0;32min\u001b[0m \u001b[0mcurrency\u001b[0m\u001b[0;34m.\u001b[0m\u001b[0mitems\u001b[0m\u001b[0;34m(\u001b[0m\u001b[0;34m)\u001b[0m\u001b[0;34m:\u001b[0m\u001b[0;34m\u001b[0m\u001b[0;34m\u001b[0m\u001b[0m\n\u001b[0;32m---> 30\u001b[0;31m   \u001b[0;32mif\u001b[0m \u001b[0mv\u001b[0m\u001b[0;34m[\u001b[0m\u001b[0;34m'value'\u001b[0m\u001b[0;34m]\u001b[0m\u001b[0;34m/\u001b[0m\u001b[0mv\u001b[0m\u001b[0;34m[\u001b[0m\u001b[0;34m'Nominal'\u001b[0m\u001b[0;34m]\u001b[0m \u001b[0;34m<\u001b[0m \u001b[0mmin\u001b[0m\u001b[0;34m:\u001b[0m\u001b[0;34m\u001b[0m\u001b[0;34m\u001b[0m\u001b[0m\n\u001b[0m\u001b[1;32m     31\u001b[0m     \u001b[0mmin\u001b[0m \u001b[0;34m=\u001b[0m \u001b[0mv\u001b[0m\u001b[0;34m[\u001b[0m\u001b[0;34m'value'\u001b[0m\u001b[0;34m]\u001b[0m\u001b[0;34m/\u001b[0m\u001b[0mv\u001b[0m\u001b[0;34m[\u001b[0m\u001b[0;34m'Nominal'\u001b[0m\u001b[0;34m]\u001b[0m\u001b[0;34m\u001b[0m\u001b[0;34m\u001b[0m\u001b[0m\n\u001b[1;32m     32\u001b[0m     \u001b[0mvaluta\u001b[0m \u001b[0;34m=\u001b[0m \u001b[0mn\u001b[0m\u001b[0;34m\u001b[0m\u001b[0;34m\u001b[0m\u001b[0m\n",
            "\u001b[0;31mKeyError\u001b[0m: 'value'"
          ]
        }
      ]
    },
    {
      "cell_type": "code",
      "metadata": {
        "id": "0vgZ__oBMzTI",
        "colab_type": "code",
        "colab": {
          "base_uri": "https://localhost:8080/",
          "height": 34
        },
        "outputId": "c6411346-b04e-4183-cd55-3cfab3bfdcaf"
      },
      "source": [
        "currency = {\n",
        "\t'AMD': {\n",
        "\t\t'Name': 'Армянских драмов',\n",
        "\t\t'Nominal': 100,\n",
        "\t\t'Value': 13.121\n",
        "\t},\n",
        "\n",
        "\t'AUD': {\n",
        "\t\t'Name': 'Австралийский доллар',\n",
        "\t\t'Nominal': 1,\n",
        "\t\t'Value': 45.5309\n",
        "\t},\n",
        "\n",
        "\t'INR': {\n",
        "\t\t'Name': 'Индийских рупий',\n",
        "\t\t'Nominal': 100,\n",
        "\t\t'Value': 92.9658\n",
        "\t},\n",
        "\n",
        "\t'MDL': {\n",
        "\t\t'Name': 'Молдавских леев',\n",
        "\t\t'Nominal': 10,\n",
        "\t\t'Value': 36.9305\n",
        "\t}\n",
        "}\n",
        "min = 100000\n",
        "valuta = \"\"\n",
        "for exchange, rate in currency.items(): # Проходимся по каждому элементу вложенного словаря currency\\n\",\n",
        "  if rate['Value']/rate['Nominal']<min: #Если значение ключа Value, деленное на значение ключа Nominal меньше минимума\\n\",\n",
        "    min=rate['Value']/rate['Nominal'] #Задаем новый минимум\\n\",\n",
        "    valuta=exchange # Присваиваем переменной valuta название валюты, в которой находится минимум \\n\",\n",
        "print(valuta)\n"
      ],
      "execution_count": 87,
      "outputs": [
        {
          "output_type": "stream",
          "text": [
            "AMD\n"
          ],
          "name": "stdout"
        }
      ]
    },
    {
      "cell_type": "code",
      "metadata": {
        "id": "6Vjlge4-OYmN",
        "colab_type": "code",
        "colab": {
          "base_uri": "https://localhost:8080/",
          "height": 34
        },
        "outputId": "71b88f0c-07dd-46d2-aa34-04a4cf984f16"
      },
      "source": [
        "bodycount = {\n",
        "\t'Проклятие Черной жемчужины': {\n",
        "\t\t'человек': 17\n",
        "\t}, \n",
        "\n",
        "\t'Сундук мертвеца': {\n",
        "\t\t'человек': 56,\n",
        "\t\t'раков-отшельников': 1\n",
        "\t},\n",
        "\n",
        "\t'На краю света': {\n",
        "\t\t'человек': 88\n",
        "\t},\n",
        "\n",
        "\t'На странных берегах': {\n",
        "\t\t'человек': 56,\n",
        "\t\t'русалок': 2,\n",
        "\t\t'ядовитых жаб': 3,\n",
        "\t\t'пиратов зомби': 2\n",
        "\t}\n",
        "}\n",
        "\n",
        "result = []\n",
        "for film, body in bodycount.items(): \n",
        "  for key in body.values():\n",
        "    result.append(key)\n",
        "sum(result)\n",
        "  "
      ],
      "execution_count": 88,
      "outputs": [
        {
          "output_type": "execute_result",
          "data": {
            "text/plain": [
              "225"
            ]
          },
          "metadata": {
            "tags": []
          },
          "execution_count": 88
        }
      ]
    },
    {
      "cell_type": "code",
      "metadata": {
        "id": "_TfKI5BtcWvJ",
        "colab_type": "code",
        "colab": {}
      },
      "source": [
        ""
      ],
      "execution_count": 0,
      "outputs": []
    }
  ]
}